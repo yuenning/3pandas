{
 "cells": [
  {
   "cell_type": "code",
   "execution_count": 5,
   "id": "723c7350",
   "metadata": {},
   "outputs": [],
   "source": [
    "import pandas as pd\n",
    "from pathlib import Path"
   ]
  },
  {
   "cell_type": "markdown",
   "id": "8f341636",
   "metadata": {},
   "source": [
    "# 1. Combining labeled batches"
   ]
  },
  {
   "cell_type": "code",
   "execution_count": 15,
   "id": "4c68e6e1",
   "metadata": {},
   "outputs": [
    {
     "name": "stdout",
     "output_type": "stream",
     "text": [
      "✅ Done. Final combined file saved to: labels_batches_01_17.csv\n"
     ]
    }
   ],
   "source": [
    "# === Config ===\n",
    "DATA_DIR = Path(\".\")  # change this if your CSVs are elsewhere\n",
    "\n",
    "# === 1) Combine labels_batch1.csv to labels_batch11.csv ===\n",
    "batches_1_11 = []\n",
    "for i in range(1, 12):\n",
    "    path = DATA_DIR / f\"labels_batch{i}.csv\"\n",
    "    df = pd.read_csv(path)\n",
    "    batches_1_11.append(df)\n",
    "\n",
    "combined_1_11 = pd.concat(batches_1_11, ignore_index=True)\n",
    "# Optional: save intermediate result if you want\n",
    "# (uncomment the next line if you'd like a standalone file for 1–11)\n",
    "# combined_1_11.to_csv(DATA_DIR / \"labels_batches_01_11.csv\", index=False)\n",
    "\n",
    "# === 2) Sort labels_batch14.csv by review_id and overwrite it ===\n",
    "path_14 = DATA_DIR / \"labels_batch14.csv\"\n",
    "df14 = pd.read_csv(path_14)\n",
    "\n",
    "# Create a numeric sort key when possible, fallback to string order.\n",
    "# This handles review_id being either numeric or string without crashing.\n",
    "df14[\"_sort_key\"] = pd.to_numeric(df14[\"review_id\"], errors=\"coerce\")\n",
    "df14 = df14.sort_values(by=[\"_sort_key\", \"review_id\"], na_position=\"last\").drop(columns=[\"_sort_key\"])\n",
    "\n",
    "# Overwrite the original labels_batch14.csv with the sorted version\n",
    "df14.to_csv(path_14, index=False)\n",
    "\n",
    "# === 3) Combine labels_batch12.csv, labels_batch13.csv, labels_batch14.csv with the previous combined dataframe ===\n",
    "df12 = pd.read_csv(DATA_DIR / \"labels_batch12.csv\")\n",
    "df13 = pd.read_csv(DATA_DIR / \"labels_batch13.csv\")\n",
    "# Read the (now sorted) batch 14 again to be safe\n",
    "df14_sorted = pd.read_csv(DATA_DIR / \"labels_batch14.csv\")\n",
    "df_15 = pd.read_csv(DATA_DIR / \"labels_batch15.csv\")\n",
    "df_16 = pd.read_csv(DATA_DIR / \"labels_batch16.csv\")\n",
    "df_17 = pd.read_csv(DATA_DIR / \"labels_batch17.csv\")\n",
    "\n",
    "final_combined = pd.concat([combined_1_11, df_15, df_16, df_17, df12, df13, df14_sorted], ignore_index=True)\n",
    "\n",
    "# === Save final combined file ===\n",
    "final_path = DATA_DIR / \"labels_batches_01_17.csv\"\n",
    "final_combined.to_csv(final_path, index=False)\n",
    "\n",
    "print(f\"✅ Done. Final combined file saved to: {final_path}\")"
   ]
  },
  {
   "cell_type": "code",
   "execution_count": 16,
   "id": "07c85196",
   "metadata": {},
   "outputs": [
    {
     "name": "stdout",
     "output_type": "stream",
     "text": [
      "✅ Filtered file saved to: labels_batches_01_17_filtered.csv\n"
     ]
    }
   ],
   "source": [
    "# Assuming you already have final_combined from before:\n",
    "# Keep only rows where 'comprehensive_review' contains \"[Review\"\n",
    "final_combined = final_combined[final_combined[\"comprehensive_review\"].str.contains(r\"\\[Review\", na=False)]\n",
    "\n",
    "# Save again\n",
    "final_path = \"labels_batches_01_17_filtered.csv\"\n",
    "final_combined.to_csv(final_path, index=False)\n",
    "\n",
    "print(f\"✅ Filtered file saved to: {final_path}\")"
   ]
  },
  {
   "cell_type": "markdown",
   "id": "58963abf",
   "metadata": {},
   "source": [
    "# 2. Left join with full set of review predictors (all_combined_reviews.csv)"
   ]
  },
  {
   "cell_type": "code",
   "execution_count": 18,
   "id": "2114ff89",
   "metadata": {},
   "outputs": [
    {
     "name": "stdout",
     "output_type": "stream",
     "text": [
      "✅ Done. Merged file saved to all_reviews_with_labels.csv\n"
     ]
    }
   ],
   "source": [
    "# === Load all_combined_reviews.csv and create 1-indexed review_id ===\n",
    "all_reviews = pd.read_csv(\"./data/all_combined_reviews.csv\")\n",
    "\n",
    "# Ensure review_id is 1-indexed (start at 1, not 0)\n",
    "all_reviews = all_reviews.reset_index(drop=True)\n",
    "all_reviews[\"review_id\"] = all_reviews.index + 1\n",
    "\n",
    "# Save back if you want the updated file\n",
    "all_reviews.to_csv(\"all_combined_reviews_with_id.csv\", index=False)\n",
    "\n",
    "# === Merge with final_combined on review_id ===\n",
    "# Load final_combined if not in memory already\n",
    "final_combined = pd.read_csv(\"labels_batches_01_17_filtered.csv\")\n",
    "\n",
    "# Ensure review_id is of the same type (int)\n",
    "final_combined[\"review_id\"] = final_combined[\"review_id\"].astype(int)\n",
    "all_reviews[\"review_id\"] = all_reviews[\"review_id\"].astype(int)\n",
    "\n",
    "# Merge\n",
    "merged = pd.merge(all_reviews, final_combined, on=\"review_id\", how=\"inner\")\n",
    "\n",
    "# Save merged file\n",
    "merged.to_csv(\"all_reviews_with_labels.csv\", index=False)\n",
    "\n",
    "print(\"✅ Done. Merged file saved to all_reviews_with_labels.csv\")"
   ]
  }
 ],
 "metadata": {
  "kernelspec": {
   "display_name": "Python 3",
   "language": "python",
   "name": "python3"
  },
  "language_info": {
   "codemirror_mode": {
    "name": "ipython",
    "version": 3
   },
   "file_extension": ".py",
   "mimetype": "text/x-python",
   "name": "python",
   "nbconvert_exporter": "python",
   "pygments_lexer": "ipython3",
   "version": "3.10.6"
  }
 },
 "nbformat": 4,
 "nbformat_minor": 5
}
