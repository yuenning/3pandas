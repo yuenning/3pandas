{
 "cells": [
  {
   "cell_type": "code",
   "execution_count": 3,
   "id": "4b3d5fb4",
   "metadata": {},
   "outputs": [],
   "source": [
    "import requests, pandas as pd, urllib.parse, time"
   ]
  },
  {
   "cell_type": "markdown",
   "id": "f4310d54",
   "metadata": {},
   "source": [
    "## Using OpenStreetMap and Google Maps to get a sample of Singapore reviews"
   ]
  },
  {
   "cell_type": "markdown",
   "id": "f4939f56",
   "metadata": {},
   "source": [
    "We use OpenStreetMap to get the name, coordinates and address of different places in Singapore (food, retail, fitness, tourism and health). With these metadata, we search Google Maps for these places and get the exact URL for 100 of these places for each category. \n",
    "\n",
    "After obtaining the URL to these 500 places, we further sample 50 reviews from each place using Apify."
   ]
  },
  {
   "cell_type": "code",
   "execution_count": 2,
   "id": "f5946850",
   "metadata": {},
   "outputs": [
    {
     "name": "stdout",
     "output_type": "stream",
     "text": [
      "food 1903\n",
      "retail 1658\n",
      "fitness 408\n",
      "tourism 1259\n",
      "health 755\n",
      "Saved sg_place_candidates.csv with 500 rows\n"
     ]
    },
    {
     "name": "stderr",
     "output_type": "stream",
     "text": [
      "C:\\Users\\teomi\\AppData\\Local\\Temp\\ipykernel_49340\\60731972.py:80: DeprecationWarning: DataFrameGroupBy.apply operated on the grouping columns. This behavior is deprecated, and in a future version of pandas the grouping columns will be excluded from the operation. Either pass `include_groups=False` to exclude the groupings or explicitly select the grouping columns after groupby to silence this warning.\n",
      "  .apply(lambda g: g.sample(min(SAMPLE_PER_CAT, len(g)), random_state=42))\n"
     ]
    }
   ],
   "source": [
    "# Singapore bounding box (approx): south, west, north, east\n",
    "SG_BBOX = (1.130, 103.590, 1.470, 104.090)\n",
    "\n",
    "CATEGORIES = [\n",
    "    # (overpass filter, label)\n",
    "    ('amenity~\"restaurant|cafe|fast_food|food_court|marketplace|bar\"', 'food'),\n",
    "    ('shop~\"supermarket|convenience|mall|department_store\"', 'retail'),\n",
    "    ('leisure~\"fitness_centre|sports_centre\"', 'fitness'),\n",
    "    ('tourism~\"attraction|museum|hotel|guest_house|hostel\"', 'tourism'),\n",
    "    ('amenity~\"clinic|hospital|pharmacy\"', 'health'),\n",
    "]\n",
    "\n",
    "def overpass_query(filter_expr, bbox):\n",
    "    s,w,n,e = bbox\n",
    "    return f\"\"\"\n",
    "    [out:json][timeout:60];\n",
    "    (\n",
    "      node[{filter_expr}]({s},{w},{n},{e});\n",
    "      way[{filter_expr}]({s},{w},{n},{e});\n",
    "      relation[{filter_expr}]({s},{w},{n},{e});\n",
    "    );\n",
    "    out center tags 2000;\n",
    "    \"\"\"\n",
    "\n",
    "def fetch_osm(filter_expr, label):\n",
    "    q = overpass_query(filter_expr, SG_BBOX)\n",
    "    r = requests.post(\"https://overpass-api.de/api/interpreter\", data={'data': q})\n",
    "    r.raise_for_status()\n",
    "    data = r.json().get('elements', [])\n",
    "    rows = []\n",
    "    for el in data:\n",
    "        tags = el.get('tags', {})\n",
    "        name = tags.get('name') or ''\n",
    "        lat = el.get('lat') or (el.get('center', {}) or {}).get('lat')\n",
    "        lon = el.get('lon') or (el.get('center', {}) or {}).get('lon')\n",
    "        if not name or lat is None or lon is None:\n",
    "            continue\n",
    "        addr = \", \".join(filter(None, [\n",
    "            tags.get('addr:housenumber'),\n",
    "            tags.get('addr:street'),\n",
    "            tags.get('addr:postcode'),\n",
    "            tags.get('addr:city') or tags.get('addr:suburb') or 'Singapore'\n",
    "        ]))\n",
    "        rows.append({\n",
    "            'source':'osm','category_label':label,\n",
    "            'name':name, 'address':addr, 'lat':lat, 'lng':lon,\n",
    "            'osm_id':f\"{el.get('type','node')}/{el.get('id')}\",\n",
    "            'raw_tags':tags\n",
    "        })\n",
    "    return pd.DataFrame(rows)\n",
    "\n",
    "# 1) Pull OSM POIs across categories\n",
    "dfs = []\n",
    "for fexpr, label in CATEGORIES:\n",
    "    df = fetch_osm(fexpr, label)\n",
    "    print(label, len(df))\n",
    "    dfs.append(df)\n",
    "    time.sleep(1.2)  # be nice to Overpass\n",
    "\n",
    "poi = pd.concat(dfs, ignore_index=True)\n",
    "\n",
    "# 2) Deduplicate by (name, ~50m rounded lat/lng)\n",
    "poi['lat50'] = (poi['lat']*2000).round().astype(int)\n",
    "poi['lng50'] = (poi['lng']*2000).round().astype(int)\n",
    "poi = poi.sort_values(['name','lat50','lng50']).drop_duplicates(['name','lat50','lng50'])\n",
    "\n",
    "# 3) Build Google Maps search URLs (no API key needed)\n",
    "def gm_search_url(name, lat, lng, address='Singapore'):\n",
    "    q = urllib.parse.quote_plus(f\"{name} {address}\")\n",
    "    return f\"https://www.google.com/maps/search/?api=1&query={q}&query_place_id=\"  # place_id blank for now\n",
    "\n",
    "poi['gmaps_search_url'] = poi.apply(lambda r: gm_search_url(r['name'], r['lat'], r['lng'], r['address'] or 'Singapore'), axis=1)\n",
    "\n",
    "# Optional: sample evenly across categories to avoid bias\n",
    "SAMPLE_PER_CAT = 100  # tune to your needs\n",
    "sampled = (\n",
    "    poi.groupby('category_label', group_keys=False)\n",
    "       .apply(lambda g: g.sample(min(SAMPLE_PER_CAT, len(g)), random_state=42))\n",
    "       .reset_index(drop=True)\n",
    ")\n",
    "\n",
    "# Save candidate links\n",
    "sampled[['category_label','name','address','lat','lng','gmaps_search_url']].to_csv(\"sg_place_candidates.csv\", index=False)\n",
    "print(\"Saved sg_place_candidates.csv with\", len(sampled), \"rows\")"
   ]
  }
 ],
 "metadata": {
  "kernelspec": {
   "display_name": "Python 3",
   "language": "python",
   "name": "python3"
  },
  "language_info": {
   "codemirror_mode": {
    "name": "ipython",
    "version": 3
   },
   "file_extension": ".py",
   "mimetype": "text/x-python",
   "name": "python",
   "nbconvert_exporter": "python",
   "pygments_lexer": "ipython3",
   "version": "3.10.6"
  }
 },
 "nbformat": 4,
 "nbformat_minor": 5
}
