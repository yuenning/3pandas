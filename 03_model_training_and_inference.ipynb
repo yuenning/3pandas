{
 "cells": [
  {
   "cell_type": "markdown",
   "id": "9638c6d0",
   "metadata": {},
   "source": [
    "# **Problem Statement 1**  \n",
    "### **Filtering the Noise: ML for Trustworthy Location Reviews**  \n",
    "**Team 3Pandas** *(Tran Ha My, Diane Teo Min Xuan, Ng Yuen Ning)*  \n",
    "\n",
    "---\n",
    "\n",
    "## **Problem Statement**  \n",
    "Design and implement an **ML-based system** to evaluate the **quality** and **relevancy** of Google location reviews. The system should:  \n",
    "\n",
    "- **Gauge review quality:** Detect spam, advertisements, irrelevant content, and rants from users who have likely never visited the location.  \n",
    "- **Assess relevancy:** Determine whether the content of a review is genuinely related to the location being reviewed.  \n",
    "- **Enforce policies:** Automatically flag or filter out reviews that violate the following example policies:  \n",
    "  - No advertisements or promotional content.  \n",
    "  - No irrelevant content (e.g., reviews about unrelated topics).  \n",
    "  - No rants or complaints from users who have not visited the place (can be inferred from content, metadata, or other signals).  \n",
    "\n",
    "---\n",
    "\n",
    "## **Motivation & Impact**  \n",
    "- **For Users:** Increases trust in location-based reviews, leading to better decision-making.  \n",
    "- **For Businesses:** Ensures fair representation and reduces the impact of malicious or irrelevant reviews.  \n",
    "- **For Platforms:** Automates moderation, reduces manual workload, and enhances platform credibility.  \n",
    "\n",
    "---\n",
    "\n",
    "## **Data Sources**  \n",
    "\n",
    "| **Data Sources**       | **Details** |\n",
    "|-------------------------|-------------|\n",
    "| **Public Datasets**    | - **Google Review Data:** Open datasets containing Google location reviews (e.g., [Google Local Reviews on Kaggle](https://www.kaggle.com/datasets/denizbilginn/google-maps-restaurant-reviews))<br>- **Google Local review data:** [UCSD Public Dataset](https://mcauleylab.ucsd.edu/public_datasets/gdrive/googlelocal/)<br>- **Alternative Sources:** Yelp, TripAdvisor, or other open review datasets for supplementary training. |\n",
    "| **Student-Crawled Data** | - Students are encouraged to crawl additional reviews from Google Maps (in compliance with Google's terms of service).<br>- **Example:** [Scraping Google Reviews (YouTube)](https://www.youtube.com/watch?v=LYMdZ7W9bWQ) |\n"
   ]
  },
  {
   "cell_type": "markdown",
   "id": "0e1a970a",
   "metadata": {},
   "source": [
    "### Dependencies"
   ]
  },
  {
   "cell_type": "code",
   "execution_count": 3,
   "id": "b1a2762e",
   "metadata": {},
   "outputs": [],
   "source": [
    "# ! pip install textblob\n",
    "from textblob import TextBlob\n",
    "import pandas as pd\n",
    "import matplotlib.pyplot as plt"
   ]
  },
  {
   "cell_type": "markdown",
   "id": "826b226b",
   "metadata": {},
   "source": [
    "### 1. Sentiment Analysis"
   ]
  },
  {
   "cell_type": "code",
   "execution_count": null,
   "id": "2bf2489e",
   "metadata": {},
   "outputs": [],
   "source": [
    "def get_textblob_sentiment(text):\n",
    "    if pd.isna(text) or not isinstance(text, str) or text.strip() == \"\":\n",
    "        return {'polarity': 0.0, 'subjectivity': 0.0, 'label': 'NEUTRAL'}\n",
    "\n",
    "    try:\n",
    "        analysis = TextBlob(text)\n",
    "        polarity = analysis.sentiment.polarity\n",
    "        subjectivity = analysis.sentiment.subjectivity\n",
    "\n",
    "        return {'polarity': polarity, 'subjectivity': subjectivity}\n",
    "    except Exception as e:\n",
    "        print(f\"Error analyzing sentiment for text (first 50 chars): '{text[:50]}...': {e}\")\n",
    "        return {'polarity': 0.0, 'subjectivity': 0.0}\n",
    "\n",
    "df['sentiment_textblob'] = df['review'].apply(get_textblob_sentiment)\n",
    "\n",
    "# =====================\n",
    "# FILTER OUT EXTREME SENTIMENTS\n",
    "# =====================\n",
    "\n",
    "positive_threshold = 0.8\n",
    "negative_threshold = -0.8"
   ]
  }
 ],
 "metadata": {
  "kernelspec": {
   "display_name": "Python 3",
   "language": "python",
   "name": "python3"
  },
  "language_info": {
   "codemirror_mode": {
    "name": "ipython",
    "version": 3
   },
   "file_extension": ".py",
   "mimetype": "text/x-python",
   "name": "python",
   "nbconvert_exporter": "python",
   "pygments_lexer": "ipython3",
   "version": "3.12.1"
  }
 },
 "nbformat": 4,
 "nbformat_minor": 5
}
