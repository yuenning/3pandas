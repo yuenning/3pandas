{
 "cells": [
  {
   "cell_type": "code",
   "execution_count": null,
   "id": "24bc1d17",
   "metadata": {},
   "outputs": [],
   "source": [
    "import pandas as pd\n",
    "import numpy as np\n",
    "from openai import OpenAI"
   ]
  },
  {
   "cell_type": "markdown",
   "id": "48e3cb72",
   "metadata": {},
   "source": [
    "# Appending tags to reviews"
   ]
  },
  {
   "cell_type": "code",
   "execution_count": 2,
   "id": "c8b0f001",
   "metadata": {},
   "outputs": [],
   "source": [
    "all_combined_reviews_df = pd.read_csv(\"./data/all_combined_reviews.csv\")"
   ]
  },
  {
   "cell_type": "code",
   "execution_count": 3,
   "id": "df496659",
   "metadata": {},
   "outputs": [
    {
     "data": {
      "text/plain": [
       "Index(['review_text', 'rating', 'has_photo', 'author_name',\n",
       "       'user_review_count', 'business_name', 'category', 'source'],\n",
       "      dtype='object')"
      ]
     },
     "execution_count": 3,
     "metadata": {},
     "output_type": "execute_result"
    }
   ],
   "source": [
    "all_combined_reviews_df.columns"
   ]
  },
  {
   "cell_type": "code",
   "execution_count": 30,
   "id": "7228bc2e",
   "metadata": {},
   "outputs": [
    {
     "name": "stdout",
     "output_type": "stream",
     "text": [
      "  review_id                               comprehensive_review\n",
      "0         1  [Business] Bass Pro Shops | [Category] ['Sport...\n",
      "1         2  [Business] Hooters | [Category] ['American res...\n",
      "2         3  [Business] Dollar Tree | [Category] ['Dollar s...\n",
      "3         4  [Business] Half Price Books | [Category] ['Boo...\n",
      "4         5  [Business] McDonald's | [Category] ['Fast food...\n"
     ]
    }
   ],
   "source": [
    "df = all_combined_reviews_df.copy()\n",
    "\n",
    "# --- helpers ---\n",
    "def s(col):\n",
    "    return df[col].fillna(\"NA\").astype(str).str.strip()\n",
    "\n",
    "has_photo_str = np.where(df[\"has_photo\"].fillna(False), \"yes\", \"no\")\n",
    "\n",
    "# Optional: clip very long reviews to keep prompts compact\n",
    "MAX_REVIEW_CHARS = 2000\n",
    "review_text_clean = s(\"review_text\").str.replace(r\"\\s+\", \" \", regex=True).str[:MAX_REVIEW_CHARS]\n",
    "\n",
    "# --- build comprehensive string ---\n",
    "df[\"comprehensive_review\"] = (\n",
    "    \"[Business] \" + s(\"business_name\") +\n",
    "    \" | [Category] \" + s(\"category\") +\n",
    "    \" | [Rating] \" + s(\"rating\") +\n",
    "    \" | [Author] \" + s(\"author_name\") +\n",
    "    \" | [User Review Count] \" + s(\"user_review_count\") +\n",
    "    \" | [Has Photo] \" + pd.Series(has_photo_str, index=df.index) +\n",
    "    \" | [Source] \" + s(\"source\") +\n",
    "    \" | [Review] \" + review_text_clean\n",
    ").str.replace(r\"\\s+\\|\\s+\\[Review\\]\\s+NA$\", \"\", regex=True)\n",
    "\n",
    "# --- add unique ID column (01, 02, 03, …) ---\n",
    "df[\"review_id\"] = (\n",
    "    pd.Series(range(1, len(df) + 1), index=df.index)\n",
    "    .astype(str)\n",
    ")\n",
    "\n",
    "# quick peek\n",
    "print(df[[\"review_id\", \"comprehensive_review\"]].head())"
   ]
  },
  {
   "cell_type": "code",
   "execution_count": 19,
   "id": "e249600e",
   "metadata": {},
   "outputs": [],
   "source": [
    "def classify_review(comprehensive_review: str) -> dict:\n",
    "    prompt = f\"\"\"\n",
    "You label customer reviews for policy compliance.\n",
    "\n",
    "INPUT FORMAT (tagged string):\n",
    "[Business] <name> | [Category] <one or more categories, possibly a Python-style list> | [Rating] <float/NA> | [Author] <name/NA> | [User Review Count] <int/NA> | [Has Photo] <yes/no> | [Source] <google/kaggle/singapore> | [Review] <free-text>\n",
    "\n",
    "POLICIES:\n",
    "1) No Advertisement (is_ad): promotional content, coupon codes, phone numbers, calls to action, links meant to drive traffic/sales.\n",
    "2) No Irrelevant Content (is_relevant): the review must be about the specific business/location and the user’s experience with it.\n",
    "3) No Rant Without Visit (is_rant): mark true if the review is a complaint/rant but the author signals no visit/experience.\n",
    "\n",
    "OUTPUT RULES:\n",
    "- Return ONLY compact JSON, no markdown, no prose.\n",
    "- Keys: is_ad, is_relevant, is_rant, is_legit\n",
    "- Types: booleans (true/false).\n",
    "- Define is_legit = (not is_ad) AND is_relevant AND (not is_rant).\n",
    "\n",
    "EXAMPLE:\n",
    "INPUT:\n",
    "[Business] Hooters | [Category] ['American restaurant', 'Bar & grill', 'Chicken wings restaurant', 'Takeout Restaurant', 'Sports bar'] | [Rating] 5.0 | [Author] Ericka Woodall | [User Review Count] 1.0 | [Has Photo] no | [Source] google | [Review] Great food, good service, great atmosphere.\n",
    "OUTPUT:\n",
    "{{\"is_ad\": false, \"is_relevant\": true, \"is_rant\": false, \"is_legit\": true}}\n",
    "\n",
    "NOW LABEL THIS:\n",
    "{comprehensive_review}\n",
    "\"\"\".strip()\n",
    "\n",
    "    resp = client.chat.completions.create(\n",
    "        model=\"gpt-4o-mini\",\n",
    "        messages=[{\"role\": \"user\", \"content\": prompt}],\n",
    "        response_format={\"type\": \"json_object\"}  # ensures JSON output\n",
    "    )\n",
    "\n",
    "    return resp.choices[0].message.content"
   ]
  },
  {
   "cell_type": "code",
   "execution_count": 23,
   "id": "6a345b8a",
   "metadata": {},
   "outputs": [
    {
     "data": {
      "text/plain": [
       "\"[Business] Hooters | [Category] ['American restaurant', 'Bar & grill', 'Chicken wings restaurant', 'Takeout Restaurant', 'Sports bar'] | [Rating] 5.0 | [Author] Ericka Woodall | [User Review Count] 1.0 | [Has Photo] no | [Source] google | [Review] Great food, good service, great atmosphere.\""
      ]
     },
     "execution_count": 23,
     "metadata": {},
     "output_type": "execute_result"
    }
   ],
   "source": [
    "df['comprehensive_review'][1]"
   ]
  },
  {
   "cell_type": "code",
   "execution_count": 24,
   "id": "dbc92fb3",
   "metadata": {},
   "outputs": [],
   "source": [
    "rant = \"Honestly, I’ve never even been to this Hooters, but it’s probably just as bad as the one I saw on TV. These chain restaurants are all terrible — the service is always slow and the food is greasy. Anyway, if you want REAL quality dining, don’t waste your time here. Go to www.bestpizzadeals.com instead and use promo code PIZZA20 for 20% off your first order! Trust me, way better than some random sports bar.\""
   ]
  },
  {
   "cell_type": "code",
   "execution_count": 25,
   "id": "093d2e6e",
   "metadata": {},
   "outputs": [
    {
     "data": {
      "text/plain": [
       "'{\"is_ad\": true, \"is_relevant\": false, \"is_rant\": true, \"is_legit\": false}'"
      ]
     },
     "execution_count": 25,
     "metadata": {},
     "output_type": "execute_result"
    }
   ],
   "source": [
    "classify_review(rant)"
   ]
  },
  {
   "cell_type": "code",
   "execution_count": 17,
   "id": "5b761052",
   "metadata": {},
   "outputs": [
    {
     "data": {
      "text/plain": [
       "\"[Business] Hooters | [Category] ['American restaurant', 'Bar & grill', 'Chicken wings restaurant', 'Takeout Restaurant', 'Sports bar'] | [Rating] 5.0 | [Author] Ericka Woodall | [User Review Count] 1.0 | [Has Photo] no | [Source] google | [Review] Great food, good service, great atmosphere.\""
      ]
     },
     "execution_count": 17,
     "metadata": {},
     "output_type": "execute_result"
    }
   ],
   "source": [
    "df['comprehensive_review'][1]"
   ]
  },
  {
   "cell_type": "code",
   "execution_count": 33,
   "id": "22f9e54b",
   "metadata": {},
   "outputs": [],
   "source": [
    "import pandas as pd\n",
    "\n",
    "def run_label_batch(df, batch_size=100, start_idx=0):\n",
    "    \"\"\"\n",
    "    Run classify_review on df['comprehensive_review'] in order,\n",
    "    but only for the batch starting at start_idx.\n",
    "\n",
    "    Args:\n",
    "        df (pd.DataFrame): must contain 'comprehensive_review' column.\n",
    "        batch_size (int): number of reviews to process per batch.\n",
    "        start_idx (int): index (0-based) to start processing from.\n",
    "\n",
    "    Returns:\n",
    "        (out_df, next_start_idx)\n",
    "        out_df: DataFrame with ['review_id', 'raw_json']\n",
    "        next_start_idx: index to use for the next batch\n",
    "    \"\"\"\n",
    "    n = len(df)\n",
    "    end_idx = min(start_idx + batch_size, n)\n",
    "\n",
    "    print(f\"🚀 Starting batch: rows {start_idx+1} to {end_idx} of {n}\")\n",
    "\n",
    "    review_ids = []\n",
    "    outputs = []\n",
    "\n",
    "    for i in range(start_idx, end_idx):\n",
    "        text = df.loc[i, \"comprehensive_review\"]\n",
    "\n",
    "        try:\n",
    "            raw_json = classify_review(text)  # <-- your function that returns JSON string\n",
    "        except Exception as e:\n",
    "            print(f\"⚠️ Error at row {i+1}: {e}\")\n",
    "            raw_json = \"{}\"  # placeholder on error\n",
    "\n",
    "        review_ids.append(i + 1)  # 1-based ID\n",
    "        outputs.append(raw_json)\n",
    "\n",
    "        # Progress update every 10 reviews or at the end\n",
    "        if (i + 1) % 10 == 0 or i == end_idx - 1:\n",
    "            print(f\"   Processed review {i+1}/{end_idx} → {raw_json}\")\n",
    "\n",
    "    out_df = pd.DataFrame({\n",
    "        \"review_id\": review_ids,\n",
    "        \"raw_json\": outputs\n",
    "    })\n",
    "\n",
    "    print(f\"✅ Finished batch: rows {start_idx+1} to {end_idx}\\n\")\n",
    "\n",
    "    return out_df, end_idx"
   ]
  },
  {
   "cell_type": "code",
   "execution_count": 34,
   "id": "11549357",
   "metadata": {},
   "outputs": [
    {
     "name": "stdout",
     "output_type": "stream",
     "text": [
      "🚀 Starting batch: rows 1 to 100 of 20615\n",
      "   Processed review 10/100 → {\"is_ad\": false, \"is_relevant\": true, \"is_rant\": false, \"is_legit\": true}\n",
      "   Processed review 20/100 → {\"is_ad\": false, \"is_relevant\": true, \"is_rant\": false, \"is_legit\": true}\n",
      "   Processed review 30/100 → {\"is_ad\": false, \"is_relevant\": true, \"is_rant\": false, \"is_legit\": true}\n",
      "   Processed review 40/100 → {\"is_ad\": false, \"is_relevant\": true, \"is_rant\": false, \"is_legit\": true}\n",
      "   Processed review 50/100 → {\"is_ad\": false, \"is_relevant\": true, \"is_rant\": false, \"is_legit\": true}\n",
      "   Processed review 60/100 → {\"is_ad\": false, \"is_relevant\": true, \"is_rant\": false, \"is_legit\": true}\n",
      "   Processed review 70/100 → {\"is_ad\": false, \"is_relevant\": true, \"is_rant\": false, \"is_legit\": true}\n",
      "   Processed review 80/100 → {\"is_ad\": false, \"is_relevant\": true, \"is_rant\": true, \"is_legit\": false}\n",
      "   Processed review 90/100 → {\"is_ad\": false, \"is_relevant\": true, \"is_rant\": false, \"is_legit\": true}\n",
      "   Processed review 100/100 → {\"is_ad\": false, \"is_relevant\": false, \"is_rant\": false, \"is_legit\": false}\n",
      "✅ Finished batch: rows 1 to 100\n",
      "\n"
     ]
    }
   ],
   "source": [
    "# First batch (rows 0–999)\n",
    "batch1, next_idx = run_label_batch(df, batch_size=100, start_idx=0)\n",
    "batch1.to_csv(\"labels_batch1.csv\", index=False)"
   ]
  },
  {
   "cell_type": "code",
   "execution_count": 36,
   "id": "9362e915",
   "metadata": {},
   "outputs": [
    {
     "name": "stdout",
     "output_type": "stream",
     "text": [
      "🚀 Starting batch: rows 101 to 1000 of 20615\n",
      "   Processed review 110/1000 → {\"is_ad\": false, \"is_relevant\": true, \"is_rant\": false, \"is_legit\": true}\n",
      "   Processed review 120/1000 → {\"is_ad\": false, \"is_relevant\": true, \"is_rant\": false, \"is_legit\": true}\n",
      "   Processed review 130/1000 → {\"is_ad\": false, \"is_relevant\": false, \"is_rant\": false, \"is_legit\": false}\n",
      "   Processed review 140/1000 → {\"is_ad\": true, \"is_relevant\": true, \"is_rant\": false, \"is_legit\": false}\n",
      "   Processed review 150/1000 → {\"is_ad\": false, \"is_relevant\": true, \"is_rant\": false, \"is_legit\": true}\n",
      "   Processed review 160/1000 → {\"is_ad\": false, \"is_relevant\": true, \"is_rant\": false, \"is_legit\": true}\n",
      "   Processed review 170/1000 → {\"is_ad\": false, \"is_relevant\": true, \"is_rant\": false, \"is_legit\": true}\n",
      "   Processed review 180/1000 → {\"is_ad\": false, \"is_relevant\": true, \"is_rant\": false, \"is_legit\": true}\n",
      "   Processed review 190/1000 → {\"is_ad\": false, \"is_relevant\": true, \"is_rant\": true, \"is_legit\": false}\n",
      "   Processed review 200/1000 → {\"is_ad\": false, \"is_relevant\": true, \"is_rant\": false, \"is_legit\": true}\n",
      "   Processed review 210/1000 → {\"is_ad\": false, \"is_relevant\": true, \"is_rant\": false, \"is_legit\": true}\n",
      "   Processed review 220/1000 → {\"is_ad\": false, \"is_relevant\": true, \"is_rant\": false, \"is_legit\": true}\n",
      "   Processed review 230/1000 → {\"is_ad\": false, \"is_relevant\": true, \"is_rant\": false, \"is_legit\": true}\n",
      "   Processed review 240/1000 → {\"is_ad\": false, \"is_relevant\": true, \"is_rant\": false, \"is_legit\": true}\n",
      "   Processed review 250/1000 → {\"is_ad\": false, \"is_relevant\": true, \"is_rant\": false, \"is_legit\": true}\n",
      "   Processed review 260/1000 → {\"is_ad\": false, \"is_relevant\": true, \"is_rant\": true, \"is_legit\": false}\n",
      "   Processed review 270/1000 → {\"is_ad\": false, \"is_relevant\": true, \"is_rant\": false, \"is_legit\": true}\n",
      "   Processed review 280/1000 → {\"is_ad\": false, \"is_relevant\": true, \"is_rant\": false, \"is_legit\": true}\n",
      "   Processed review 290/1000 → {\"is_ad\": false, \"is_relevant\": true, \"is_rant\": false, \"is_legit\": true}\n",
      "   Processed review 300/1000 → {\"is_ad\": false, \"is_relevant\": true, \"is_rant\": false, \"is_legit\": true}\n",
      "   Processed review 310/1000 → {\"is_ad\": false, \"is_relevant\": true, \"is_rant\": false, \"is_legit\": true}\n",
      "   Processed review 320/1000 → {\"is_ad\": false, \"is_relevant\": true, \"is_rant\": false, \"is_legit\": true}\n",
      "   Processed review 330/1000 → {\"is_ad\": false, \"is_relevant\": true, \"is_rant\": false, \"is_legit\": true}\n",
      "   Processed review 340/1000 → {\"is_ad\": false, \"is_relevant\": true, \"is_rant\": false, \"is_legit\": true}\n",
      "   Processed review 350/1000 → {\"is_ad\": false, \"is_relevant\": true, \"is_rant\": false, \"is_legit\": true}\n",
      "   Processed review 360/1000 → {\"is_ad\": false, \"is_relevant\": true, \"is_rant\": false, \"is_legit\": true}\n",
      "   Processed review 370/1000 → {\"is_ad\": false, \"is_relevant\": true, \"is_rant\": false, \"is_legit\": true}\n",
      "   Processed review 380/1000 → {\"is_ad\": false, \"is_relevant\": true, \"is_rant\": false, \"is_legit\": true}\n",
      "   Processed review 390/1000 → {\"is_ad\": false, \"is_relevant\": true, \"is_rant\": false, \"is_legit\": true}\n",
      "   Processed review 400/1000 → {\"is_ad\": false, \"is_relevant\": true, \"is_rant\": false, \"is_legit\": true}\n",
      "   Processed review 410/1000 → {\"is_ad\": false, \"is_relevant\": true, \"is_rant\": false, \"is_legit\": true}\n",
      "   Processed review 420/1000 → {\"is_ad\": false, \"is_relevant\": true, \"is_rant\": false, \"is_legit\": true}\n",
      "   Processed review 430/1000 → {\"is_ad\": false, \"is_relevant\": true, \"is_rant\": false, \"is_legit\": true}\n",
      "   Processed review 440/1000 → {\"is_ad\": false, \"is_relevant\": true, \"is_rant\": false, \"is_legit\": true}\n",
      "   Processed review 450/1000 → {\"is_ad\": false, \"is_relevant\": true, \"is_rant\": false, \"is_legit\": true}\n",
      "   Processed review 460/1000 → {\"is_ad\":false,\"is_relevant\":true,\"is_rant\":false,\"is_legit\":true}\n",
      "   Processed review 470/1000 → {\"is_ad\": true, \"is_relevant\": true, \"is_rant\": false, \"is_legit\": false}\n",
      "   Processed review 480/1000 → {\"is_ad\": false, \"is_relevant\": true, \"is_rant\": false, \"is_legit\": true}\n",
      "   Processed review 490/1000 → {\"is_ad\": false, \"is_relevant\": true, \"is_rant\": false, \"is_legit\": true}\n",
      "   Processed review 500/1000 → {\"is_ad\": false, \"is_relevant\": true, \"is_rant\": false, \"is_legit\": true}\n",
      "   Processed review 510/1000 → {\"is_ad\": false, \"is_relevant\": true, \"is_rant\": false, \"is_legit\": true}\n",
      "   Processed review 520/1000 → {\"is_ad\": false, \"is_relevant\": true, \"is_rant\": false, \"is_legit\": true}\n",
      "   Processed review 530/1000 → {\"is_ad\": false, \"is_relevant\": true, \"is_rant\": false, \"is_legit\": true}\n",
      "   Processed review 540/1000 → {\"is_ad\": false, \"is_relevant\": true, \"is_rant\": false, \"is_legit\": true}\n",
      "   Processed review 550/1000 → {\"is_ad\": false, \"is_relevant\": true, \"is_rant\": false, \"is_legit\": true}\n",
      "   Processed review 560/1000 → {\"is_ad\": true, \"is_relevant\": true, \"is_rant\": false, \"is_legit\": false}\n",
      "   Processed review 570/1000 → {\"is_ad\": false, \"is_relevant\": true, \"is_rant\": false, \"is_legit\": true}\n",
      "   Processed review 580/1000 → {\"is_ad\": false, \"is_relevant\": true, \"is_rant\": true, \"is_legit\": false}\n",
      "   Processed review 590/1000 → {\"is_ad\": false, \"is_relevant\": true, \"is_rant\": false, \"is_legit\": true}\n",
      "   Processed review 600/1000 → {\"is_ad\": false, \"is_relevant\": true, \"is_rant\": false, \"is_legit\": true}\n",
      "   Processed review 610/1000 → {\"is_ad\": false, \"is_relevant\": true, \"is_rant\": false, \"is_legit\": true}\n",
      "   Processed review 620/1000 → {\"is_ad\": false, \"is_relevant\": true, \"is_rant\": false, \"is_legit\": true}\n",
      "   Processed review 630/1000 → {\"is_ad\": false, \"is_relevant\": true, \"is_rant\": false, \"is_legit\": true}\n",
      "   Processed review 640/1000 → {\"is_ad\": false, \"is_relevant\": true, \"is_rant\": false, \"is_legit\": true}\n",
      "   Processed review 650/1000 → {\"is_ad\": false, \"is_relevant\": true, \"is_rant\": false, \"is_legit\": true}\n",
      "   Processed review 660/1000 → {\"is_ad\": false, \"is_relevant\": true, \"is_rant\": false, \"is_legit\": true}\n",
      "   Processed review 670/1000 → {\"is_ad\": false, \"is_relevant\": true, \"is_rant\": false, \"is_legit\": true}\n",
      "   Processed review 680/1000 → {\"is_ad\": false, \"is_relevant\": true, \"is_rant\": false, \"is_legit\": true}\n",
      "   Processed review 690/1000 → {\"is_ad\": false, \"is_relevant\": true, \"is_rant\": false, \"is_legit\": true}\n",
      "   Processed review 700/1000 → {\"is_ad\": false, \"is_relevant\": true, \"is_rant\": false, \"is_legit\": true}\n",
      "   Processed review 710/1000 → {\"is_ad\": false, \"is_relevant\": true, \"is_rant\": true, \"is_legit\": false}\n",
      "   Processed review 720/1000 → {\"is_ad\": false, \"is_relevant\": true, \"is_rant\": false, \"is_legit\": true}\n",
      "   Processed review 730/1000 → {\"is_ad\": false, \"is_relevant\": true, \"is_rant\": false, \"is_legit\": true}\n",
      "   Processed review 740/1000 → {\"is_ad\": true, \"is_relevant\": true, \"is_rant\": false, \"is_legit\": false}\n",
      "   Processed review 750/1000 → {\"is_ad\": false, \"is_relevant\": false, \"is_rant\": false, \"is_legit\": false}\n",
      "   Processed review 760/1000 → {\"is_ad\": false, \"is_relevant\": true, \"is_rant\": true, \"is_legit\": false}\n",
      "   Processed review 770/1000 → {\"is_ad\": false, \"is_relevant\": true, \"is_rant\": false, \"is_legit\": true}\n",
      "   Processed review 780/1000 → {\"is_ad\": false, \"is_relevant\": true, \"is_rant\": true, \"is_legit\": false}\n",
      "   Processed review 790/1000 → {\"is_ad\": false, \"is_relevant\": true, \"is_rant\": false, \"is_legit\": true}\n",
      "   Processed review 800/1000 → {\"is_ad\": false, \"is_relevant\": true, \"is_rant\": false, \"is_legit\": true}\n",
      "   Processed review 810/1000 → {\"is_ad\": false, \"is_relevant\": true, \"is_rant\": false, \"is_legit\": true}\n",
      "   Processed review 820/1000 → {\"is_ad\": false, \"is_relevant\": true, \"is_rant\": false, \"is_legit\": true}\n",
      "   Processed review 830/1000 → {\"is_ad\": false, \"is_relevant\": true, \"is_rant\": false, \"is_legit\": true}\n",
      "   Processed review 840/1000 → {\"is_ad\": false, \"is_relevant\": true, \"is_rant\": false, \"is_legit\": true}\n",
      "   Processed review 850/1000 → {\"is_ad\": false, \"is_relevant\": true, \"is_rant\": false, \"is_legit\": true}\n",
      "   Processed review 860/1000 → {\"is_ad\": false, \"is_relevant\": true, \"is_rant\": false, \"is_legit\": true}\n",
      "   Processed review 870/1000 → {\"is_ad\": false, \"is_relevant\": true, \"is_rant\": false, \"is_legit\": true}\n",
      "   Processed review 880/1000 → {\"is_ad\": false, \"is_relevant\": true, \"is_rant\": false, \"is_legit\": true}\n",
      "   Processed review 890/1000 → {\"is_ad\": false, \"is_relevant\": true, \"is_rant\": false, \"is_legit\": true}\n",
      "   Processed review 900/1000 → {\"is_ad\": false, \"is_relevant\": true, \"is_rant\": false, \"is_legit\": true}\n",
      "   Processed review 910/1000 → {\"is_ad\": false, \"is_relevant\": true, \"is_rant\": false, \"is_legit\": true}\n",
      "   Processed review 920/1000 → {\"is_ad\": false, \"is_relevant\": true, \"is_rant\": false, \"is_legit\": true}\n",
      "   Processed review 930/1000 → {\"is_ad\": false, \"is_relevant\": true, \"is_rant\": false, \"is_legit\": true}\n",
      "   Processed review 940/1000 → {\"is_ad\": false, \"is_relevant\": true, \"is_rant\": false, \"is_legit\": true}\n",
      "   Processed review 950/1000 → {\"is_ad\": false, \"is_relevant\": true, \"is_rant\": false, \"is_legit\": true}\n",
      "   Processed review 960/1000 → {\"is_ad\": false, \"is_relevant\": true, \"is_rant\": false, \"is_legit\": true}\n",
      "   Processed review 970/1000 → {\"is_ad\": false, \"is_relevant\": true, \"is_rant\": false, \"is_legit\": true}\n",
      "   Processed review 980/1000 → {\"is_ad\": false, \"is_relevant\": true, \"is_rant\": false, \"is_legit\": true}\n",
      "   Processed review 990/1000 → {\"is_ad\": false, \"is_relevant\": true, \"is_rant\": false, \"is_legit\": true}\n",
      "   Processed review 1000/1000 → {\"is_ad\": false, \"is_relevant\": true, \"is_rant\": false, \"is_legit\": true}\n",
      "✅ Finished batch: rows 101 to 1000\n",
      "\n"
     ]
    }
   ],
   "source": [
    "batch2, next_idx = run_label_batch(df, batch_size=900, start_idx=next_idx)"
   ]
  },
  {
   "cell_type": "code",
   "execution_count": 35,
   "id": "f7a8fd08",
   "metadata": {},
   "outputs": [
    {
     "data": {
      "text/plain": [
       "100"
      ]
     },
     "execution_count": 35,
     "metadata": {},
     "output_type": "execute_result"
    }
   ],
   "source": [
    "next_idx"
   ]
  }
 ],
 "metadata": {
  "kernelspec": {
   "display_name": "Python 3",
   "language": "python",
   "name": "python3"
  },
  "language_info": {
   "codemirror_mode": {
    "name": "ipython",
    "version": 3
   },
   "file_extension": ".py",
   "mimetype": "text/x-python",
   "name": "python",
   "nbconvert_exporter": "python",
   "pygments_lexer": "ipython3",
   "version": "3.10.6"
  }
 },
 "nbformat": 4,
 "nbformat_minor": 5
}
