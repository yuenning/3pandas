{
 "cells": [
  {
   "cell_type": "markdown",
   "id": "b21078b7",
   "metadata": {},
   "source": [
    "# 1. Loading Dataset"
   ]
  },
  {
   "cell_type": "code",
   "execution_count": 2,
   "id": "34b48539",
   "metadata": {},
   "outputs": [],
   "source": [
    "import os\n",
    "import glob\n",
    "import json\n",
    "import pandas as pd\n",
    "import random\n",
    "from typing import List, Dict"
   ]
  },
  {
   "cell_type": "code",
   "execution_count": 2,
   "id": "eee89be7",
   "metadata": {},
   "outputs": [],
   "source": [
    "# Loading Kaggle Dataset\n",
    "reviews_df = pd.read_csv('./data/kaggle_reviews.csv')"
   ]
  },
  {
   "cell_type": "code",
   "execution_count": 3,
   "id": "779bcdc5",
   "metadata": {},
   "outputs": [
    {
     "data": {
      "text/html": [
       "<div>\n",
       "<style scoped>\n",
       "    .dataframe tbody tr th:only-of-type {\n",
       "        vertical-align: middle;\n",
       "    }\n",
       "\n",
       "    .dataframe tbody tr th {\n",
       "        vertical-align: top;\n",
       "    }\n",
       "\n",
       "    .dataframe thead th {\n",
       "        text-align: right;\n",
       "    }\n",
       "</style>\n",
       "<table border=\"1\" class=\"dataframe\">\n",
       "  <thead>\n",
       "    <tr style=\"text-align: right;\">\n",
       "      <th></th>\n",
       "      <th>business_name</th>\n",
       "      <th>author_name</th>\n",
       "      <th>text</th>\n",
       "      <th>photo</th>\n",
       "      <th>rating</th>\n",
       "      <th>rating_category</th>\n",
       "    </tr>\n",
       "  </thead>\n",
       "  <tbody>\n",
       "    <tr>\n",
       "      <th>0</th>\n",
       "      <td>Haci'nin Yeri - Yigit Lokantasi</td>\n",
       "      <td>Gulsum Akar</td>\n",
       "      <td>We went to Marmaris with my wife for a holiday...</td>\n",
       "      <td>dataset/taste/hacinin_yeri_gulsum_akar.png</td>\n",
       "      <td>5</td>\n",
       "      <td>taste</td>\n",
       "    </tr>\n",
       "    <tr>\n",
       "      <th>1</th>\n",
       "      <td>Haci'nin Yeri - Yigit Lokantasi</td>\n",
       "      <td>Oguzhan Cetin</td>\n",
       "      <td>During my holiday in Marmaris we ate here to f...</td>\n",
       "      <td>dataset/menu/hacinin_yeri_oguzhan_cetin.png</td>\n",
       "      <td>4</td>\n",
       "      <td>menu</td>\n",
       "    </tr>\n",
       "    <tr>\n",
       "      <th>2</th>\n",
       "      <td>Haci'nin Yeri - Yigit Lokantasi</td>\n",
       "      <td>Yasin Kuyu</td>\n",
       "      <td>Prices are very affordable. The menu in the ph...</td>\n",
       "      <td>dataset/outdoor_atmosphere/hacinin_yeri_yasin_...</td>\n",
       "      <td>3</td>\n",
       "      <td>outdoor_atmosphere</td>\n",
       "    </tr>\n",
       "    <tr>\n",
       "      <th>3</th>\n",
       "      <td>Haci'nin Yeri - Yigit Lokantasi</td>\n",
       "      <td>Orhan Kapu</td>\n",
       "      <td>Turkey's cheapest artisan restaurant and its f...</td>\n",
       "      <td>dataset/indoor_atmosphere/hacinin_yeri_orhan_k...</td>\n",
       "      <td>5</td>\n",
       "      <td>indoor_atmosphere</td>\n",
       "    </tr>\n",
       "    <tr>\n",
       "      <th>4</th>\n",
       "      <td>Haci'nin Yeri - Yigit Lokantasi</td>\n",
       "      <td>Ozgur Sati</td>\n",
       "      <td>I don't know what you will look for in terms o...</td>\n",
       "      <td>dataset/menu/hacinin_yeri_ozgur_sati.png</td>\n",
       "      <td>3</td>\n",
       "      <td>menu</td>\n",
       "    </tr>\n",
       "  </tbody>\n",
       "</table>\n",
       "</div>"
      ],
      "text/plain": [
       "                     business_name    author_name  \\\n",
       "0  Haci'nin Yeri - Yigit Lokantasi    Gulsum Akar   \n",
       "1  Haci'nin Yeri - Yigit Lokantasi  Oguzhan Cetin   \n",
       "2  Haci'nin Yeri - Yigit Lokantasi     Yasin Kuyu   \n",
       "3  Haci'nin Yeri - Yigit Lokantasi     Orhan Kapu   \n",
       "4  Haci'nin Yeri - Yigit Lokantasi     Ozgur Sati   \n",
       "\n",
       "                                                text  \\\n",
       "0  We went to Marmaris with my wife for a holiday...   \n",
       "1  During my holiday in Marmaris we ate here to f...   \n",
       "2  Prices are very affordable. The menu in the ph...   \n",
       "3  Turkey's cheapest artisan restaurant and its f...   \n",
       "4  I don't know what you will look for in terms o...   \n",
       "\n",
       "                                               photo  rating  \\\n",
       "0         dataset/taste/hacinin_yeri_gulsum_akar.png       5   \n",
       "1        dataset/menu/hacinin_yeri_oguzhan_cetin.png       4   \n",
       "2  dataset/outdoor_atmosphere/hacinin_yeri_yasin_...       3   \n",
       "3  dataset/indoor_atmosphere/hacinin_yeri_orhan_k...       5   \n",
       "4           dataset/menu/hacinin_yeri_ozgur_sati.png       3   \n",
       "\n",
       "      rating_category  \n",
       "0               taste  \n",
       "1                menu  \n",
       "2  outdoor_atmosphere  \n",
       "3   indoor_atmosphere  \n",
       "4                menu  "
      ]
     },
     "execution_count": 3,
     "metadata": {},
     "output_type": "execute_result"
    }
   ],
   "source": [
    "reviews_df.head()"
   ]
  },
  {
   "cell_type": "code",
   "execution_count": 5,
   "id": "923b9249",
   "metadata": {},
   "outputs": [],
   "source": [
    "# Loading Google Reviews Dataset\n",
    "\n",
    "# 50 states + DC (if you don't want DC, remove it)\n",
    "STATES = [\n",
    "    \"Alabama\",\"Alaska\",\"Arizona\",\"Arkansas\",\"California\",\"Colorado\",\"Connecticut\",\"Delaware\",\n",
    "    \"District of Columbia\",\"Florida\",\"Georgia\",\"Hawaii\",\"Idaho\",\"Illinois\",\"Indiana\",\"Iowa\",\n",
    "    \"Kansas\",\"Kentucky\",\"Louisiana\",\"Maine\",\"Maryland\",\"Massachusetts\",\"Michigan\",\"Minnesota\",\n",
    "    \"Mississippi\",\"Missouri\",\"Montana\",\"Nebraska\",\"Nevada\",\"New Hampshire\",\"New Jersey\",\n",
    "    \"New Mexico\",\"New York\",\"North Carolina\",\"North Dakota\",\"Ohio\",\"Oklahoma\",\"Oregon\",\n",
    "    \"Pennsylvania\",\"Rhode Island\",\"South Carolina\",\"South Dakota\",\"Tennessee\",\"Texas\",\"Utah\",\n",
    "    \"Vermont\",\"Virginia\",\"Washington\",\"West Virginia\",\"Wisconsin\",\"Wyoming\"\n",
    "]\n",
    "\n",
    "# Optional: region map for stratified selection (helps diversity)\n",
    "REGION = {\n",
    "    \"Northeast\": {\"Maine\",\"New Hampshire\",\"Vermont\",\"Massachusetts\",\"Rhode Island\",\"Connecticut\",\n",
    "                  \"New York\",\"New Jersey\",\"Pennsylvania\"},\n",
    "    \"Midwest\": {\"Ohio\",\"Michigan\",\"Indiana\",\"Wisconsin\",\"Illinois\",\"Minnesota\",\"Iowa\",\"Missouri\",\n",
    "                \"North Dakota\",\"South Dakota\",\"Nebraska\",\"Kansas\"},\n",
    "    \"South\": {\"Delaware\",\"Maryland\",\"District of Columbia\",\"Virginia\",\"West Virginia\",\"North Carolina\",\n",
    "              \"South Carolina\",\"Georgia\",\"Florida\",\"Kentucky\",\"Tennessee\",\"Mississippi\",\"Alabama\",\n",
    "              \"Oklahoma\",\"Texas\",\"Arkansas\",\"Louisiana\"},\n",
    "    \"West\": {\"Idaho\",\"Montana\",\"Wyoming\",\"Nevada\",\"Utah\",\"Colorado\",\"Arizona\",\"New Mexico\",\n",
    "             \"Alaska\",\"Washington\",\"Oregon\",\"California\",\"Hawaii\"}\n",
    "}\n",
    "\n",
    "def pick_states(states: List[str], k: int = 8, seed: int = 42, stratify: bool = True) -> List[str]:\n",
    "    \"\"\"\n",
    "    Picks k states. If stratify=True, tries to spread picks across regions.\n",
    "    \"\"\"\n",
    "    random.seed(seed)\n",
    "    if not stratify or k < 4:\n",
    "        return random.sample(states, k)\n",
    "\n",
    "    # Stratify: pick as evenly as possible across regions\n",
    "    regions = list(REGION.keys())\n",
    "    picks_per_region = [k // 4] * 4\n",
    "    for i in range(k % 4):\n",
    "        picks_per_region[i] += 1\n",
    "\n",
    "    selected = []\n",
    "    for r, n in zip(regions, picks_per_region):\n",
    "        pool = list(REGION[r] & set(states))\n",
    "        n = min(n, len(pool))\n",
    "        selected.extend(random.sample(pool, n))\n",
    "    return selected"
   ]
  },
  {
   "cell_type": "code",
   "execution_count": 6,
   "id": "1dd29077",
   "metadata": {},
   "outputs": [
    {
     "name": "stdout",
     "output_type": "stream",
     "text": [
      "Selected States: ['Rhode Island', 'New York', 'Ohio', 'Indiana', 'Georgia', 'Texas', 'Hawaii', 'Idaho']\n"
     ]
    }
   ],
   "source": [
    "print(\"Selected States:\", pick_states(STATES, k=8, stratify=True))"
   ]
  },
  {
   "cell_type": "code",
   "execution_count": 7,
   "id": "411f2a2c",
   "metadata": {},
   "outputs": [
    {
     "name": "stdout",
     "output_type": "stream",
     "text": [
      "✅ Loaded 2085487 rows, sampled 150 → saved to google_reviews_sample_idaho.json\n"
     ]
    }
   ],
   "source": [
    "# Change folder and input file individually because \n",
    "# running all of them at once hits memory limits\n",
    "\n",
    "# ---- config ----\n",
    "FOLDER = \"./data/google_reviews/review-Idaho_10.json\"   # path to the folder\n",
    "INPUT_FILE = os.path.join(FOLDER, \"review-Idaho_10.json\")  # the actual file inside\n",
    "OUTPUT_FILE = \"google_reviews_sample_idaho.json\"\n",
    "SAMPLE_SIZE = 150\n",
    "# ----------------\n",
    "\n",
    "def read_json_any(path: str) -> pd.DataFrame:\n",
    "    \"\"\"Read JSON Lines Exfirst, fall back to normal JSON.\"\"\"\n",
    "    try:\n",
    "        return pd.read_json(path, lines=True)\n",
    "    except ValueError:\n",
    "        pass\n",
    "    with open(path, \"r\", encoding=\"utf-8\") as f:\n",
    "        obj = json.load(f)\n",
    "    if isinstance(obj, list):\n",
    "        return pd.json_normalize(obj)\n",
    "    elif isinstance(obj, dict):\n",
    "        # flatten dict\n",
    "        return pd.json_normalize(obj)\n",
    "    return pd.DataFrame()\n",
    "\n",
    "# load\n",
    "df = read_json_any(INPUT_FILE)\n",
    "\n",
    "# sample\n",
    "n = min(SAMPLE_SIZE, len(df))\n",
    "df_sample = df.sample(n=n, random_state=42)\n",
    "\n",
    "# save as JSON Lines\n",
    "df_sample.to_json(OUTPUT_FILE, orient=\"records\", lines=True, force_ascii=False)\n",
    "\n",
    "print(f\"✅ Loaded {len(df)} rows, sampled {len(df_sample)} → saved to {OUTPUT_FILE}\")\n"
   ]
  },
  {
   "cell_type": "code",
   "execution_count": null,
   "id": "d1f5a349",
   "metadata": {},
   "outputs": [
    {
     "name": "stdout",
     "output_type": "stream",
     "text": [
      "(2000, 9)\n",
      "                review_id                 user_id             business_id  \\\n",
      "0  BzjXbPZKWyR7vmiyoMRuTw  KJf7fWhW1KrroTTCAdxIWA  YMOCOlONOae4zaiKImTnTQ   \n",
      "1  lPtf4MUENN8raxh8G36Z_Q  ZjCEtvnGO3Ae51ubrAxG7g  YNCUUR7GU5I14cle_2XRcA   \n",
      "2  hwvXR5r2eDQF1pol9uqWvA  iPkdNziqnhNukjnmsrSzmg  F6HCLpKegKxE6g1jyUaqiQ   \n",
      "3  vDXql54TVF0ItRd205CGtQ  6s-g2vFu12OemhiK3FJuOQ  WVtg_Jx7OfJRdbnKzT2p4w   \n",
      "4  Ga-siZ7Sadr3CL4ihaRegg  sdpIz4-s15T239CZ4Bd6Ag  W4ZEKkva9HpAdZG88juwyQ   \n",
      "\n",
      "   stars  useful  funny  cool  \\\n",
      "0      1       0      0     0   \n",
      "1      5       2      0     0   \n",
      "2      4       8      0     4   \n",
      "3      4       5      2     7   \n",
      "4      4       6      5     5   \n",
      "\n",
      "                                                text                date  \n",
      "0  Quite possibly the worst service@a sushi bar t... 2015-02-16 20:44:19  \n",
      "1  Visited on 2 different occasions.  First time,... 2021-01-14 04:31:34  \n",
      "2  Positives: \\nExtremely friendly staff \\nA Hub ... 2010-04-25 22:14:53  \n",
      "3  This cozy corner coffee shop[1] is a classy ch... 2016-03-02 16:55:31  \n",
      "4  I dream about Mr. B's BBQ shrimp! \\n\\nThe brow... 2014-06-22 17:02:24  \n"
     ]
    },
    {
     "name": "stderr",
     "output_type": "stream",
     "text": [
      "C:\\Users\\teomi\\AppData\\Local\\Temp\\ipykernel_53172\\835247805.py:20: FutureWarning: Passing literal json to 'read_json' is deprecated and will be removed in a future version. To read from a literal string, wrap it in a 'StringIO' object.\n",
      "  yelp_sample = pd.read_json('\\n'.join(sample), lines=True)\n"
     ]
    }
   ],
   "source": [
    "file_path = './data/Yelp-JSON/Yelp JSON/yelp_dataset/yelp_academic_dataset_review.json'\n",
    "\n",
    "N = 2000  # how many reviews you want\n",
    "sample = []\n",
    "\n",
    "with open(file_path, 'r', encoding='utf-8') as f:\n",
    "    for i, line in enumerate(f, start=1):\n",
    "        if i <= N:\n",
    "            sample.append(line)\n",
    "        else:\n",
    "            # Replace elements with decreasing probability\n",
    "            j = random.randint(1, i)\n",
    "            if j <= N:\n",
    "                sample[j-1] = line\n",
    "\n",
    "# Parse just the sampled JSON lines\n",
    "yelp_sample = pd.read_json('\\n'.join(sample), lines=True)\n",
    "\n",
    "print(yelp_sample.shape)\n",
    "print(yelp_sample.head())"
   ]
  },
  {
   "cell_type": "code",
   "execution_count": 9,
   "id": "64caca97",
   "metadata": {},
   "outputs": [],
   "source": [
    "yelp_sample.to_json('./data/yelp_sample.json', orient='records', lines=True)"
   ]
  }
 ],
 "metadata": {
  "kernelspec": {
   "display_name": "Python 3",
   "language": "python",
   "name": "python3"
  },
  "language_info": {
   "codemirror_mode": {
    "name": "ipython",
    "version": 3
   },
   "file_extension": ".py",
   "mimetype": "text/x-python",
   "name": "python",
   "nbconvert_exporter": "python",
   "pygments_lexer": "ipython3",
   "version": "3.10.6"
  }
 },
 "nbformat": 4,
 "nbformat_minor": 5
}
